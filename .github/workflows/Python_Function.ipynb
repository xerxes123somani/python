{
 "cells": [
  {
   "cell_type": "markdown",
   "metadata": {},
   "source": [
    "# Functions in Python"
   ]
  },
  {
   "cell_type": "markdown",
   "metadata": {},
   "source": [
    "## 1. Defining Function\n",
    "     def function_name(parameters):\n",
    "            statments(s)"
   ]
  },
  {
   "cell_type": "markdown",
   "metadata": {},
   "source": [
    "### 1.1 with no parameters  and no return type:\n",
    "    def function_name():\n",
    "        statments()"
   ]
  },
  {
   "cell_type": "code",
   "execution_count": 4,
   "metadata": {},
   "outputs": [
    {
     "name": "stdout",
     "output_type": "stream",
     "text": [
      "hello\n"
     ]
    }
   ],
   "source": [
    "def hello():\n",
    "    print(\"hello\")\n",
    "\n",
    "hello()"
   ]
  },
  {
   "cell_type": "markdown",
   "metadata": {},
   "source": [
    "###  1.2 with one parameter and no return type:\n",
    "    def function_name(param1):\n",
    "        stat(param1)\n",
    "       "
   ]
  },
  {
   "cell_type": "code",
   "execution_count": 5,
   "metadata": {},
   "outputs": [
    {
     "name": "stdout",
     "output_type": "stream",
     "text": [
      "hello1\n"
     ]
    }
   ],
   "source": [
    "def hello1(param1):\n",
    "    print(param1)\n",
    "    \n",
    "hello1(\"hello1\")"
   ]
  },
  {
   "cell_type": "code",
   "execution_count": 7,
   "metadata": {},
   "outputs": [
    {
     "name": "stdout",
     "output_type": "stream",
     "text": [
      "None\n",
      "hello2\n"
     ]
    }
   ],
   "source": [
    "def hello2(param1=None):\n",
    "    print(param1)\n",
    "hello2()\n",
    "hello2(\"hello2\")"
   ]
  },
  {
   "cell_type": "markdown",
   "metadata": {},
   "source": [
    "###  1.2.1 with multiple parameter and no return type:\n",
    "    def function_name(*param):\n",
    "        stat(s)"
   ]
  },
  {
   "cell_type": "code",
   "execution_count": 9,
   "metadata": {},
   "outputs": [
    {
     "name": "stdout",
     "output_type": "stream",
     "text": [
      "('rina', 'josaph', 'dev')\n",
      "<type 'tuple'>\n",
      "('rina', 1, 2)\n",
      "<type 'tuple'>\n"
     ]
    }
   ],
   "source": [
    "def names(*name):\n",
    "    print(name)\n",
    "    print(type(name))\n",
    "names('rina','josaph','dev')\n",
    "names('rina',1,2)"
   ]
  },
  {
   "cell_type": "code",
   "execution_count": 20,
   "metadata": {},
   "outputs": [
    {
     "name": "stdout",
     "output_type": "stream",
     "text": [
      "hello rina\n",
      "hello ramesh\n",
      "hello kishan\n",
      "rina ramesh\n",
      "rina kishan\n",
      "rina 1\n"
     ]
    }
   ],
   "source": [
    "def names1(hello,*name):\n",
    "    for i in name:\n",
    "        print hello,i\n",
    "names1(\"hello\",'rina','ramesh','kishan')\n",
    "names1('rina','ramesh','kishan',1)"
   ]
  },
  {
   "cell_type": "markdown",
   "metadata": {},
   "source": [
    "##  1.3 with no parameter and a return type\n",
    "    def function_name():\n",
    "        stat()\n",
    "        return x,y,z...or list,tuple... or function(recursion)"
   ]
  },
  {
   "cell_type": "code",
   "execution_count": 22,
   "metadata": {},
   "outputs": [
    {
     "name": "stdout",
     "output_type": "stream",
     "text": [
      "hello3\n",
      "('hello4', 'hello5')\n",
      "hello4 hello5\n",
      "[1, 2, 3, 4]\n"
     ]
    }
   ],
   "source": [
    "def hello3():\n",
    "    return \"hello3\"\n",
    "\n",
    "def hello4_5():\n",
    "    return \"hello4\",\"hello5\"\n",
    "\n",
    "def hello_list():\n",
    "    return [1,2,3,4]\n",
    "\n",
    "\n",
    "\n",
    "print hello3()\n",
    "print hello4_5()\n",
    "#or\n",
    "x,y=hello4_5()\n",
    "print x,y\n",
    "print hello_list()"
   ]
  },
  {
   "cell_type": "markdown",
   "metadata": {},
   "source": [
    "## 1.4 with one param and a return type:\n",
    "    def function_name(param1):\n",
    "        state()\n",
    "        return x,y,z... as above "
   ]
  },
  {
   "cell_type": "code",
   "execution_count": 24,
   "metadata": {},
   "outputs": [
    {
     "data": {
      "text/plain": [
       "'hello6'"
      ]
     },
     "execution_count": 24,
     "metadata": {},
     "output_type": "execute_result"
    }
   ],
   "source": [
    "def hello6(hello6):\n",
    "    return hello6\n",
    "\n",
    "hello6(\"hello6\")"
   ]
  },
  {
   "cell_type": "markdown",
   "metadata": {},
   "source": [
    "# Positional parameter"
   ]
  },
  {
   "cell_type": "code",
   "execution_count": 35,
   "metadata": {},
   "outputs": [
    {
     "name": "stdout",
     "output_type": "stream",
     "text": [
      "a= 10 b= 11\n",
      "21\n",
      "a= 5 b= 6\n",
      "11\n",
      "a= 6 b= 5\n",
      "11\n",
      "a= 0 b= 6\n",
      "6\n",
      "a= 5 b= 7\n",
      "12\n"
     ]
    }
   ],
   "source": [
    "def sum_(a=5,b=7):\n",
    "    print \"a=\",a,\"b=\",b\n",
    "    return a+b\n",
    "print sum_(10,11)\n",
    "print sum_(a=5,b=6)\n",
    "print sum_(b=5,a=6)\n",
    "print sum_(0,6)\n",
    "print sum_()\n"
   ]
  },
  {
   "cell_type": "markdown",
   "metadata": {},
   "source": [
    "# Recursian Function:\n",
    "    def func_name(param):\n",
    "        stat()\n",
    "        return func_name(param)"
   ]
  },
  {
   "cell_type": "code",
   "execution_count": 45,
   "metadata": {},
   "outputs": [
    {
     "name": "stdout",
     "output_type": "stream",
     "text": [
      "120\n"
     ]
    },
    {
     "data": {
      "text/plain": [
       "720"
      ]
     },
     "execution_count": 45,
     "metadata": {},
     "output_type": "execute_result"
    }
   ],
   "source": [
    "def factorial(number):\n",
    "    if number==1:\n",
    "        return 1\n",
    "    else:\n",
    "        return number*factorial(number-1)\n",
    "print factorial(5)\n",
    "\n",
    "def sum_of_n(n):\n",
    "    if n==0:\n",
    "        return 0\n",
    "    else:\n",
    "        return n+sum_of_n(n-1)\n",
    "factorial(sum_of_n(3))"
   ]
  },
  {
   "cell_type": "code",
   "execution_count": null,
   "metadata": {},
   "outputs": [],
   "source": []
  }
 ],
 "metadata": {
  "kernelspec": {
   "display_name": "Python 2",
   "language": "python",
   "name": "python2"
  },
  "language_info": {
   "codemirror_mode": {
    "name": "ipython",
    "version": 2
   },
   "file_extension": ".py",
   "mimetype": "text/x-python",
   "name": "python",
   "nbconvert_exporter": "python",
   "pygments_lexer": "ipython2",
   "version": "2.7.16"
  }
 },
 "nbformat": 4,
 "nbformat_minor": 2
}
